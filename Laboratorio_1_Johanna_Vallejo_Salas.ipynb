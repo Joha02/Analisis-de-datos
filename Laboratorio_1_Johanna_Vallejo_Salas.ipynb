{
  "nbformat": 4,
  "nbformat_minor": 0,
  "metadata": {
    "colab": {
      "provenance": [],
      "authorship_tag": "ABX9TyObsG5EZqsUhKXpnnWYivnB",
      "include_colab_link": true
    },
    "kernelspec": {
      "name": "python3",
      "display_name": "Python 3"
    },
    "language_info": {
      "name": "python"
    }
  },
  "cells": [
    {
      "cell_type": "markdown",
      "metadata": {
        "id": "view-in-github",
        "colab_type": "text"
      },
      "source": [
        "<a href=\"https://colab.research.google.com/github/Joha02/Analisis-de-datos/blob/main/Laboratorio_1_Johanna_Vallejo_Salas.ipynb\" target=\"_parent\"><img src=\"https://colab.research.google.com/assets/colab-badge.svg\" alt=\"Open In Colab\"/></a>"
      ]
    },
    {
      "cell_type": "markdown",
      "source": [
        "Ejercicio #1"
      ],
      "metadata": {
        "id": "kBAHY0k8GGTg"
      }
    },
    {
      "cell_type": "code",
      "execution_count": null,
      "metadata": {
        "id": "scVmpuOa3hHw"
      },
      "outputs": [],
      "source": [
        "print(\"Ejercicio #1 Calcular distancia\")\n",
        "print(\"Ingresar la velocidad y el tiempo de la unidad movil\")\n",
        "v = float(input(\"Ingrese la velocidad:\"))\n",
        "t = float(input(\"Ingrese el tiempo:\"))\n",
        "print(\"La distancia es:\" +str(v*t))"
      ]
    },
    {
      "cell_type": "markdown",
      "source": [
        "Ejercicio #2"
      ],
      "metadata": {
        "id": "3rAmr6E2GMn8"
      }
    },
    {
      "cell_type": "code",
      "source": [
        "print(\"Ejercicio #2 Promedio notas\")\n",
        "nota1 = float(input(\"Ingrese la nota 1:\"))\n",
        "nota2 = int(input(\"Ingrese la nota 2:\"))\n",
        "nota3 = int(input(\"Ingrese la nota 3:\"))\n",
        "print(\"El promedio de las notas es: \"+str((nota1+nota2+nota3)/3))"
      ],
      "metadata": {
        "id": "4sEI77i2DoXe"
      },
      "execution_count": null,
      "outputs": []
    },
    {
      "cell_type": "markdown",
      "source": [
        "Ejercicio #3"
      ],
      "metadata": {
        "id": "8BOtOrIRGM5j"
      }
    },
    {
      "cell_type": "code",
      "source": [
        "num=1\n",
        "if(num==1):\n",
        "  print(\"es 1\")\n",
        "else:\n",
        "  print(\"no es 1\")"
      ],
      "metadata": {
        "colab": {
          "base_uri": "https://localhost:8080/"
        },
        "id": "gZzopdsw-o3l",
        "outputId": "7abf6dd2-857c-49e2-c793-e7571678e5b4"
      },
      "execution_count": null,
      "outputs": [
        {
          "output_type": "stream",
          "name": "stdout",
          "text": [
            "es 1\n"
          ]
        }
      ]
    },
    {
      "cell_type": "code",
      "source": [
        "print(\"Ejercicio #3\")\n",
        "corr = int(input(\"Ingrese correctas:\"))\n",
        "inco = int(input(\"Ingrese incorrectas:\"))\n",
        "blan = int(input(\"Ingrese blanco:\"))\n",
        "print(\"El total es: \"+str(corr*3+inco*-1))"
      ],
      "metadata": {
        "id": "MHjRZi09FHLz"
      },
      "execution_count": null,
      "outputs": []
    }
  ]
}