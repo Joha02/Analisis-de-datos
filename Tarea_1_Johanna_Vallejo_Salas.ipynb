{
  "nbformat": 4,
  "nbformat_minor": 0,
  "metadata": {
    "colab": {
      "provenance": [],
      "authorship_tag": "ABX9TyObCZYn77DB+vPEWyLB9hJY",
      "include_colab_link": true
    },
    "kernelspec": {
      "name": "python3",
      "display_name": "Python 3"
    },
    "language_info": {
      "name": "python"
    }
  },
  "cells": [
    {
      "cell_type": "markdown",
      "metadata": {
        "id": "view-in-github",
        "colab_type": "text"
      },
      "source": [
        "<a href=\"https://colab.research.google.com/github/Joha02/Analisis-de-datos/blob/main/Tarea_1_Johanna_Vallejo_Salas.ipynb\" target=\"_parent\"><img src=\"https://colab.research.google.com/assets/colab-badge.svg\" alt=\"Open In Colab\"/></a>"
      ]
    },
    {
      "cell_type": "code",
      "execution_count": null,
      "metadata": {
        "colab": {
          "base_uri": "https://localhost:8080/"
        },
        "id": "uRKs3MK5VlbG",
        "outputId": "f17bfaf7-bdb8-4d27-cc0b-35f370125f4c"
      },
      "outputs": [
        {
          "output_type": "stream",
          "name": "stdout",
          "text": [
            "Ejercicio Bisiesto\n",
            "Ingrese el año: 2023\n",
            "El año no es bisiesto\n"
          ]
        }
      ],
      "source": [
        "print(\"Ejercicio Bisiesto\")\n",
        "anio=int(input(\"Ingrese el año: \"))\n",
        "if(anio % 400 == 0)or(anio %4 ==0)and(anio%100!=0):\n",
        "  print(\"El año es bisiesto\")\n",
        "else: \n",
        "  print(\"El año no es bisiesto\")"
      ]
    },
    {
      "cell_type": "code",
      "source": [
        "switcher={1:\"Enero\",2:\"Febrero\",3:\"Marzo\",4:\"Abril\",5:\"Mayo\",6:\"Junio\",7:\"Julio\",8:\"Agosto\",9:\"Septiembre\",10:\"Octubre\",11:\"Noviembre\",12:\"Diciembre\"}\n",
        "argument=int(input(\"Ingrese un número: \"))\n",
        "nombreDeMes=switcher.get(argument, \"Mes inválido\")\n",
        "print(nombreDeMes)"
      ],
      "metadata": {
        "colab": {
          "base_uri": "https://localhost:8080/"
        },
        "id": "6CFk6jYTWOsd",
        "outputId": "84706f49-b669-41ab-ced4-5c65e935528f"
      },
      "execution_count": null,
      "outputs": [
        {
          "output_type": "stream",
          "name": "stdout",
          "text": [
            "Ingrese un número: 13\n",
            "Mes inválido\n"
          ]
        }
      ]
    },
    {
      "cell_type": "code",
      "source": [
        "#Creación de variables\n",
        "C=-1\n",
        "I=0\n",
        "M=0\n",
        "while(C<0)or(I<=0)or(I>=100)or(M<=0):\n",
        "  print(\"Introduzca el capital, el interés y el tiempo apropiados\")\n",
        "  C=int(input(\"Capital: \"))\n",
        "  I=int(input(\"Interés: \"))\n",
        "  M=int(input(\"Tiempo en años: \"))\n",
        "\n",
        "for i in range(M):\n",
        "  C=C*(1+I/100)\n",
        "  print(\"Monto: \",C,\" colones\")"
      ],
      "metadata": {
        "colab": {
          "base_uri": "https://localhost:8080/"
        },
        "id": "TVawB4PUWvJu",
        "outputId": "922d1594-6c14-44d2-bbc3-6895202a7de8"
      },
      "execution_count": null,
      "outputs": [
        {
          "output_type": "stream",
          "name": "stdout",
          "text": [
            "Introduzca el capital, el interés y el tiempo apropiados\n",
            "Capital: 1000\n",
            "Interés: 10\n",
            "Tiempo en años: 20\n",
            "Monto:  1100.0  colones\n",
            "Monto:  1210.0  colones\n",
            "Monto:  1331.0  colones\n",
            "Monto:  1464.1000000000001  colones\n",
            "Monto:  1610.5100000000002  colones\n",
            "Monto:  1771.5610000000004  colones\n",
            "Monto:  1948.7171000000005  colones\n",
            "Monto:  2143.5888100000006  colones\n",
            "Monto:  2357.9476910000008  colones\n",
            "Monto:  2593.742460100001  colones\n",
            "Monto:  2853.1167061100014  colones\n",
            "Monto:  3138.4283767210018  colones\n",
            "Monto:  3452.271214393102  colones\n",
            "Monto:  3797.4983358324125  colones\n",
            "Monto:  4177.248169415654  colones\n",
            "Monto:  4594.97298635722  colones\n",
            "Monto:  5054.470284992943  colones\n",
            "Monto:  5559.917313492238  colones\n",
            "Monto:  6115.909044841462  colones\n",
            "Monto:  6727.499949325608  colones\n"
          ]
        }
      ]
    },
    {
      "cell_type": "code",
      "source": [
        "print(\"Digite un npumero\")\n",
        "numero=int(input(\"Numero: \"))\n",
        "while numero>0:\n",
        "  Suma=0\n",
        "  for i in range(1,numero+1):\n",
        "    if(numero%i==0):\n",
        "      Suma=Suma+i\n",
        "  print(Suma)\n",
        "  numero=int(input(\"Numero: \"))"
      ],
      "metadata": {
        "colab": {
          "base_uri": "https://localhost:8080/"
        },
        "id": "i4y34kNFY5by",
        "outputId": "6ccbd990-f2c8-4a5c-ecca-a7d77f1cd920"
      },
      "execution_count": null,
      "outputs": [
        {
          "name": "stdout",
          "output_type": "stream",
          "text": [
            "Digite un npumero\n",
            "Numero: 10\n",
            "18\n",
            "Numero: 5\n",
            "6\n",
            "Numero: 100\n",
            "217\n",
            "Numero: -1\n"
          ]
        }
      ]
    },
    {
      "cell_type": "code",
      "source": [],
      "metadata": {
        "id": "6ma6Ox8DZ-WW"
      },
      "execution_count": null,
      "outputs": []
    }
  ]
}