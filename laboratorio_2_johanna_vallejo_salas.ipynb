{
  "nbformat": 4,
  "nbformat_minor": 0,
  "metadata": {
    "colab": {
      "provenance": [],
      "include_colab_link": true
    },
    "kernelspec": {
      "name": "python3",
      "display_name": "Python 3"
    },
    "language_info": {
      "name": "python"
    }
  },
  "cells": [
    {
      "cell_type": "markdown",
      "metadata": {
        "id": "view-in-github",
        "colab_type": "text"
      },
      "source": [
        "<a href=\"https://colab.research.google.com/github/Joha02/Analisis-de-datos/blob/main/laboratorio_2_johanna_vallejo_salas.ipynb\" target=\"_parent\"><img src=\"https://colab.research.google.com/assets/colab-badge.svg\" alt=\"Open In Colab\"/></a>"
      ]
    },
    {
      "cell_type": "code",
      "execution_count": null,
      "metadata": {
        "id": "-uq6YfB43SUF",
        "colab": {
          "base_uri": "https://localhost:8080/"
        },
        "outputId": "f21794b6-9e16-46be-e4b9-f1a2fce0d10d"
      },
      "outputs": [
        {
          "output_type": "stream",
          "name": "stdout",
          "text": [
            "-------------------------------------------\n",
            "Ejemplo 2: IMPRIMIR EL MENOR DE DOS NÚMEROS\n",
            "-------------------------------------------\n",
            "Ingrese 2 númeos: \n",
            "Primer número: 4\n",
            "Segundo número: 12\n",
            "\n",
            " SALIDA: \n",
            "-------------------------------------------\n",
            "El menor es 4\n"
          ]
        }
      ],
      "source": [
        "print(\"-------------------------------------------\")\n",
        "print(\"Ejemplo 2: IMPRIMIR EL MENOR DE DOS NÚMEROS\")\n",
        "print(\"-------------------------------------------\")\n",
        "\n",
        "#Entradas\n",
        "print(\"Ingrese 2 números: \")\n",
        "x=int(input(\"Primer número: \"))\n",
        "y=int(input(\"Segundo número: \"))\n",
        "print(\"\\nSALIDA: \")\n",
        "print(\"-------------------------------------------\")\n",
        "\n",
        "if x>y:\n",
        "  print(\"El menor es\", y)\n",
        "else:\n",
        "  print(\"El menor es\", x)"
      ]
    },
    {
      "cell_type": "code",
      "source": [
        "print(\"Ejercicio Bisiesto\")\n",
        "\n",
        "annio=int(input(\"Ingrese el año: \"))\n",
        "if(annio%400==0)or(annio%4==0)or(annio%100!=0):\n",
        "  print(\"El año sí es bisiesto\")\n",
        "else:\n",
        "  print(\"El año no es bisiesto\")\n"
      ],
      "metadata": {
        "colab": {
          "base_uri": "https://localhost:8080/"
        },
        "id": "WW8KiJN25UjK",
        "outputId": "c3cb4361-78a7-4840-a66b-f821a46f73a1"
      },
      "execution_count": null,
      "outputs": [
        {
          "output_type": "stream",
          "name": "stdout",
          "text": [
            "Ejercicio Bisiesto\n",
            "Ingrese el año: 2026\n",
            "El año sí es bisiesto\n"
          ]
        }
      ]
    },
    {
      "cell_type": "code",
      "source": [
        "switcher={1:\"Enero\",2:\"Febrero\",3:\"Marzo\",4:\"Abril\",5:\"Mayo\",6:\"Junio\",7:\"Julio\",8:\"Agosto\",9:\"Septiembre\",10:\"Octubre\",11:\"Noviembre\",12:\"Diciembre\"}\n",
        "argument=int(input(\"Ingrese un número: \"))\n",
        "nameMes=switcher.get(argument, \"Mes válido\")\n",
        "print(nameMes)"
      ],
      "metadata": {
        "colab": {
          "base_uri": "https://localhost:8080/"
        },
        "id": "NXAxKx8b6GL3",
        "outputId": "e61bacea-2cd1-461c-8025-75d8dace4740"
      },
      "execution_count": null,
      "outputs": [
        {
          "output_type": "stream",
          "name": "stdout",
          "text": [
            "Ongrese un número: 5\n",
            "Mayo\n"
          ]
        }
      ]
    }
  ]
}